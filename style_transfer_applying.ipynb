{
  "nbformat": 4,
  "nbformat_minor": 0,
  "metadata": {
    "colab": {
      "name": "style_transfer_applying.ipynb",
      "version": "0.3.2",
      "provenance": [],
      "collapsed_sections": [],
      "include_colab_link": true
    },
    "kernelspec": {
      "name": "python3",
      "display_name": "Python 3"
    }
  },
  "cells": [
    {
      "cell_type": "markdown",
      "metadata": {
        "id": "view-in-github",
        "colab_type": "text"
      },
      "source": [
        "<a href=\"https://colab.research.google.com/github/BhushanVasisht/Style-Transfer-Evaluation/blob/master/style_transfer_applying.ipynb\" target=\"_parent\"><img src=\"https://colab.research.google.com/assets/colab-badge.svg\" alt=\"Open In Colab\"/></a>"
      ]
    },
    {
      "metadata": {
        "id": "4EJz6UwNvB7b",
        "colab_type": "code",
        "colab": {
          "base_uri": "https://localhost:8080/",
          "height": 102
        },
        "outputId": "9f459523-c610-443e-cb51-94635283ca6c"
      },
      "cell_type": "code",
      "source": [
        "import os\n",
        "os.chdir('../')\n",
        "!rm -rf fast-style-transfer\n",
        "!git clone https://github.com/lengstrom/fast-style-transfer.git"
      ],
      "execution_count": 18,
      "outputs": [
        {
          "output_type": "stream",
          "text": [
            "Cloning into 'fast-style-transfer'...\n",
            "remote: Enumerating objects: 201, done.\u001b[K\n",
            "remote: Total 201 (delta 0), reused 0 (delta 0), pack-reused 201\u001b[K\n",
            "Receiving objects: 100% (201/201), 11.01 MiB | 35.44 MiB/s, done.\n",
            "Resolving deltas: 100% (91/91), done.\n"
          ],
          "name": "stdout"
        }
      ]
    },
    {
      "metadata": {
        "id": "T8cfQFVkvOUM",
        "colab_type": "code",
        "colab": {
          "base_uri": "https://localhost:8080/",
          "height": 68
        },
        "outputId": "16d6cbfe-042a-40d7-8b3b-f4122b44c5fe"
      },
      "cell_type": "code",
      "source": [
        "!ls"
      ],
      "execution_count": 19,
      "outputs": [
        {
          "output_type": "stream",
          "text": [
            "fast-style-transfer  puppy.jpeg\t\t wave.ckpt\n",
            "kgf.jpg\t\t     rain-princess.ckpt  yash.jpeg\n",
            "la_muse.ckpt\t     sample_data\t yash_style_wave.png\n"
          ],
          "name": "stdout"
        }
      ]
    },
    {
      "metadata": {
        "id": "cWBiI7CnvQqd",
        "colab_type": "code",
        "colab": {
          "base_uri": "https://localhost:8080/",
          "height": 51
        },
        "outputId": "0d1da5c6-1583-41a5-bbcc-281054110fb0"
      },
      "cell_type": "code",
      "source": [
        "import os\n",
        "os.chdir('fast-style-transfer')\n",
        "!ls"
      ],
      "execution_count": 20,
      "outputs": [
        {
          "output_type": "stream",
          "text": [
            "docs.md      examples\tsetup.sh  style.py\n",
            "evaluate.py  README.md\tsrc\t  transform_video.py\n"
          ],
          "name": "stdout"
        }
      ]
    },
    {
      "metadata": {
        "id": "FFNrNyQv0Lln",
        "colab_type": "code",
        "colab": {
          "base_uri": "https://localhost:8080/",
          "height": 54
        },
        "outputId": "7d3b2008-5d70-4b48-9b99-31b5a9ced870"
      },
      "cell_type": "code",
      "source": [
        "!python evaluate.py --checkpoint ../la_muse.ckpt --in-path ../puppy.jpeg --out-path puppy_style_lamuse.png"
      ],
      "execution_count": 21,
      "outputs": [
        {
          "output_type": "stream",
          "text": [
            "tcmalloc: large alloc 1865367552 bytes == 0x19cc8000 @  0x7fe036adf1e7 0x7fe026994215 0x7fe02912e4b9 0x7fe029138b6a 0x7fe029386d5d 0x7fe0293973c7 0x7fe029397829 0x7fe029398add 0x7fe024788aca 0x7fe02477c6b5 0x7fe0247f8822 0x7fe0247f65f7 0x7fe0353c157f 0x7fe0364a36db 0x7fe0367dc88f\n"
          ],
          "name": "stdout"
        }
      ]
    }
  ]
}